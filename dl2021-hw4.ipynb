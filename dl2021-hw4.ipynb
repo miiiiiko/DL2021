{
 "cells": [
  {
   "cell_type": "code",
   "execution_count": 1,
   "id": "opening-lawyer",
   "metadata": {
    "_cell_guid": "b1076dfc-b9ad-4769-8c92-a6c4dae69d19",
    "_uuid": "8f2839f25d086af736a60e9eeb907d3b93b6e0e5",
    "execution": {
     "iopub.execute_input": "2022-08-14T15:25:02.070783Z",
     "iopub.status.busy": "2022-08-14T15:25:02.069830Z",
     "iopub.status.idle": "2022-08-14T15:25:04.346908Z",
     "shell.execute_reply": "2022-08-14T15:25:04.346125Z"
    },
    "papermill": {
     "duration": 2.30508,
     "end_time": "2022-08-14T15:25:04.347123",
     "exception": false,
     "start_time": "2022-08-14T15:25:02.042043",
     "status": "completed"
    },
    "tags": []
   },
   "outputs": [],
   "source": [
    "import os\n",
    "import json\n",
    "import torch\n",
    "import random\n",
    "from pathlib import Path\n",
    "from torch.utils.data import Dataset\n",
    "from torch.nn.utils.rnn import pad_sequence\n",
    " \n",
    " \n",
    "class myDataset(Dataset):\n",
    "  def __init__(self, data_dir, segment_len=128):\n",
    "    self.data_dir = data_dir\n",
    "    self.segment_len = segment_len\n",
    " \n",
    "    # Load the mapping from speaker neme to their corresponding id. \n",
    "    mapping_path = Path(data_dir) / \"mapping.json\"\n",
    "    mapping = json.load(mapping_path.open())\n",
    "    self.speaker2id = mapping[\"speaker2id\"]\n",
    " \n",
    "    # Load metadata of training data.\n",
    "    metadata_path = Path(data_dir) / \"metadata.json\"\n",
    "    metadata = json.load(open(metadata_path))[\"speakers\"]\n",
    " \n",
    "    # Get the total number of speaker.\n",
    "    self.speaker_num = len(metadata.keys())\n",
    "    self.data = []\n",
    "    for speaker in metadata.keys():\n",
    "      for utterances in metadata[speaker]:\n",
    "        self.data.append([utterances[\"feature_path\"], self.speaker2id[speaker]])\n",
    " \n",
    "  def __len__(self):\n",
    "    return len(self.data)\n",
    " \n",
    "  def __getitem__(self, index):\n",
    "    feat_path, speaker = self.data[index]\n",
    "    # Load preprocessed mel-spectrogram.\n",
    "    mel = torch.load(os.path.join(self.data_dir, feat_path))\n",
    " \n",
    "    # Segmemt mel-spectrogram into \"segment_len\" frames.\n",
    "    if len(mel) > self.segment_len:\n",
    "      # Randomly get the starting point of the segment.\n",
    "      start = random.randint(0, len(mel) - self.segment_len)\n",
    "      # Get a segment with \"segment_len\" frames.\n",
    "      mel = torch.FloatTensor(mel[start:start+self.segment_len])\n",
    "    else:\n",
    "      mel = torch.FloatTensor(mel)\n",
    "    # Turn the speaker id into long for computing loss later.\n",
    "    speaker = torch.FloatTensor([speaker]).long()\n",
    "    return mel, speaker\n",
    " \n",
    "  def get_speaker_number(self):\n",
    "    return self.speaker_num"
   ]
  },
  {
   "cell_type": "code",
   "execution_count": 2,
   "id": "practical-screening",
   "metadata": {
    "execution": {
     "iopub.execute_input": "2022-08-14T15:25:04.372295Z",
     "iopub.status.busy": "2022-08-14T15:25:04.370995Z",
     "iopub.status.idle": "2022-08-14T15:25:15.377621Z",
     "shell.execute_reply": "2022-08-14T15:25:15.377022Z"
    },
    "papermill": {
     "duration": 11.021198,
     "end_time": "2022-08-14T15:25:15.377809",
     "exception": false,
     "start_time": "2022-08-14T15:25:04.356611",
     "status": "completed"
    },
    "tags": []
   },
   "outputs": [
    {
     "name": "stdout",
     "output_type": "stream",
     "text": [
      "Collecting conformer\r\n",
      "  Downloading conformer-0.2.5-py3-none-any.whl (4.1 kB)\r\n",
      "Requirement already satisfied: torch in /opt/conda/lib/python3.7/site-packages (from conformer) (1.7.0)\r\n",
      "Collecting einops\r\n",
      "  Downloading einops-0.4.1-py3-none-any.whl (28 kB)\r\n",
      "Requirement already satisfied: future in /opt/conda/lib/python3.7/site-packages (from torch->conformer) (0.18.2)\r\n",
      "Requirement already satisfied: typing_extensions in /opt/conda/lib/python3.7/site-packages (from torch->conformer) (3.7.4.3)\r\n",
      "Requirement already satisfied: dataclasses in /opt/conda/lib/python3.7/site-packages (from torch->conformer) (0.6)\r\n",
      "Requirement already satisfied: numpy in /opt/conda/lib/python3.7/site-packages (from torch->conformer) (1.19.5)\r\n",
      "Installing collected packages: einops, conformer\r\n",
      "Successfully installed conformer-0.2.5 einops-0.4.1\r\n"
     ]
    }
   ],
   "source": [
    "!pip3 install conformer"
   ]
  },
  {
   "cell_type": "code",
   "execution_count": 3,
   "id": "eleven-badge",
   "metadata": {
    "execution": {
     "iopub.execute_input": "2022-08-14T15:25:15.414282Z",
     "iopub.status.busy": "2022-08-14T15:25:15.413507Z",
     "iopub.status.idle": "2022-08-14T15:25:15.419343Z",
     "shell.execute_reply": "2022-08-14T15:25:15.418645Z"
    },
    "papermill": {
     "duration": 0.030044,
     "end_time": "2022-08-14T15:25:15.419544",
     "exception": false,
     "start_time": "2022-08-14T15:25:15.389500",
     "status": "completed"
    },
    "tags": []
   },
   "outputs": [],
   "source": [
    "import torch\n",
    "from torch.utils.data import DataLoader, random_split\n",
    "from torch.nn.utils.rnn import pad_sequence\n",
    "\n",
    "\n",
    "def collate_batch(batch):\n",
    "  # Process features within a batch.\n",
    "  \"\"\"Collate a batch of data.\"\"\"\n",
    "  mel, speaker = zip(*batch)\n",
    "  # Because we train the model batch by batch, we need to pad the features in the same batch to make their lengths the same.\n",
    "  mel = pad_sequence(mel, batch_first=True, padding_value=-20)    # pad log 10^(-20) which is very small value.\n",
    "  # mel: (batch size, length, 40)\n",
    "  return mel, torch.FloatTensor(speaker).long()\n",
    "\n",
    "\n",
    "def get_dataloader(data_dir, batch_size, n_workers):\n",
    "  \"\"\"Generate dataloader\"\"\"\n",
    "  dataset = myDataset(data_dir)\n",
    "  speaker_num = dataset.get_speaker_number()\n",
    "  # Split dataset into training dataset and validation dataset\n",
    "  trainlen = int(0.9 * len(dataset))\n",
    "  lengths = [trainlen, len(dataset) - trainlen]\n",
    "  trainset, validset = random_split(dataset, lengths)\n",
    "\n",
    "  train_loader = DataLoader(\n",
    "    trainset,\n",
    "    batch_size=batch_size,\n",
    "    shuffle=True,\n",
    "    drop_last=True,\n",
    "    num_workers=n_workers,\n",
    "    pin_memory=True,\n",
    "    collate_fn=collate_batch,\n",
    "  )\n",
    "  valid_loader = DataLoader(\n",
    "    validset,\n",
    "    batch_size=batch_size,\n",
    "    num_workers=n_workers,\n",
    "    drop_last=True,\n",
    "    pin_memory=True,\n",
    "    collate_fn=collate_batch,\n",
    "  )\n",
    "\n",
    "  return train_loader, valid_loader, speaker_num"
   ]
  },
  {
   "cell_type": "code",
   "execution_count": 4,
   "id": "joined-mileage",
   "metadata": {
    "execution": {
     "iopub.execute_input": "2022-08-14T15:25:15.456454Z",
     "iopub.status.busy": "2022-08-14T15:25:15.454730Z",
     "iopub.status.idle": "2022-08-14T15:25:15.470886Z",
     "shell.execute_reply": "2022-08-14T15:25:15.470241Z"
    },
    "papermill": {
     "duration": 0.039586,
     "end_time": "2022-08-14T15:25:15.471090",
     "exception": false,
     "start_time": "2022-08-14T15:25:15.431504",
     "status": "completed"
    },
    "tags": []
   },
   "outputs": [],
   "source": [
    "import torch\n",
    "import torch.nn as nn\n",
    "import torch.nn.functional as F\n",
    "from conformer import ConformerBlock\n",
    "class Classifier(nn.Module):\n",
    "    def __init__(self, d_model=512, n_spks=600, dropout=0.1):\n",
    "        super().__init__()\n",
    "    # Project the dimension of features from that of input into d_model.\n",
    "        self.prenet = nn.Linear(40, d_model)\n",
    "    # TODO:\n",
    "    #   Change Transformer to Conformer.\n",
    "    #   https://arxiv.org/abs/2005.08100\n",
    "        self.encoder_layer = nn.TransformerEncoderLayer(\n",
    "          d_model=d_model, dim_feedforward=256, nhead=1\n",
    "        )\n",
    "        self.encoder = nn.TransformerEncoder(self.encoder_layer, num_layers=2)\n",
    "\n",
    "        self.block = ConformerBlock(\n",
    "            dim = d_model,\n",
    "            dim_head = 64,\n",
    "            heads = 4,\n",
    "            ff_mult = 4,\n",
    "            conv_expansion_factor = 2,\n",
    "            conv_kernel_size = 31,\n",
    "            attn_dropout = dropout,\n",
    "            ff_dropout = dropout,\n",
    "            conv_dropout = dropout\n",
    "        )\n",
    "\n",
    "       \n",
    "\n",
    "        self.pred_layer = nn.Linear(d_model, n_spks)\n",
    "        \n",
    "    \n",
    "    def forward(self, mels):\n",
    "        \"\"\"\n",
    "        args:\n",
    "          mels: (batch size, length, 40)\n",
    "        return:\n",
    "          out: (batch size, n_spks)\n",
    "        \"\"\"\n",
    "        # out: (batch size, length, d_model)\n",
    "        out = self.prenet(mels)\n",
    "        # out: (length, batch size, d_model)\n",
    "        out = out.permute(1, 0, 2)\n",
    "        # The encoder layer expect features in the shape of (length, batch size, d_model).\n",
    "        #out = self.encoder(out)\n",
    "        out = self.block(out)\n",
    "        # out: (batch size, length, d_model)\n",
    "        out = out.transpose(0, 1)\n",
    "        # mean pooling\n",
    "        stats = out.mean(dim=1)\n",
    "        #stats = torch.median(out)\n",
    "        # out: (batch, n_spks)\n",
    "        out = self.pred_layer(stats)\n",
    "        return out\n"
   ]
  },
  {
   "cell_type": "code",
   "execution_count": 5,
   "id": "assisted-toronto",
   "metadata": {
    "execution": {
     "iopub.execute_input": "2022-08-14T15:25:15.504683Z",
     "iopub.status.busy": "2022-08-14T15:25:15.503480Z",
     "iopub.status.idle": "2022-08-14T15:25:15.507078Z",
     "shell.execute_reply": "2022-08-14T15:25:15.507611Z"
    },
    "papermill": {
     "duration": 0.024896,
     "end_time": "2022-08-14T15:25:15.507852",
     "exception": false,
     "start_time": "2022-08-14T15:25:15.482956",
     "status": "completed"
    },
    "tags": []
   },
   "outputs": [],
   "source": [
    "import math\n",
    "\n",
    "import torch\n",
    "from torch.optim import Optimizer\n",
    "from torch.optim.lr_scheduler import LambdaLR\n",
    "\n",
    "    \n",
    "def get_cosine_schedule_with_warmup(\n",
    "  optimizer: Optimizer,\n",
    "  num_warmup_steps: int,\n",
    "  num_training_steps: int,\n",
    "  num_cycles: float = 0.5,\n",
    "  last_epoch: int = -1,\n",
    "):\n",
    "  \"\"\"\n",
    "  Create a schedule with a learning rate that decreases following the values of the cosine function between the\n",
    "  initial lr set in the optimizer to 0, after a warmup period during which it increases linearly between 0 and the\n",
    "  initial lr set in the optimizer.\n",
    "\n",
    "  Args:\n",
    "    optimizer (:class:`~torch.optim.Optimizer`):\n",
    "      The optimizer for which to schedule the learning rate.\n",
    "    num_warmup_steps (:obj:`int`):\n",
    "      The number of steps for the warmup phase.\n",
    "    num_training_steps (:obj:`int`):\n",
    "      The total number of training steps.\n",
    "    num_cycles (:obj:`float`, `optional`, defaults to 0.5):\n",
    "      The number of waves in the cosine schedule (the defaults is to just decrease from the max value to 0\n",
    "      following a half-cosine).\n",
    "    last_epoch (:obj:`int`, `optional`, defaults to -1):\n",
    "      The index of the last epoch when resuming training.\n",
    "\n",
    "  Return:\n",
    "    :obj:`torch.optim.lr_scheduler.LambdaLR` with the appropriate schedule.\n",
    "  \"\"\"\n",
    "\n",
    "  def lr_lambda(current_step):\n",
    "    # Warmup\n",
    "    if current_step < num_warmup_steps:\n",
    "      return float(current_step) / float(max(1, num_warmup_steps))\n",
    "    # decadence\n",
    "    progress = float(current_step - num_warmup_steps) / float(\n",
    "      max(1, num_training_steps - num_warmup_steps)\n",
    "    )\n",
    "    return max(\n",
    "      0.0, 0.5 * (1.0 + math.cos(math.pi * float(num_cycles) * 2.0 * progress))\n",
    "    )\n",
    "\n",
    "  return LambdaLR(optimizer, lr_lambda, last_epoch)"
   ]
  },
  {
   "cell_type": "code",
   "execution_count": 6,
   "id": "mounted-brand",
   "metadata": {
    "execution": {
     "iopub.execute_input": "2022-08-14T15:25:15.540584Z",
     "iopub.status.busy": "2022-08-14T15:25:15.539501Z",
     "iopub.status.idle": "2022-08-14T15:25:15.543840Z",
     "shell.execute_reply": "2022-08-14T15:25:15.543304Z"
    },
    "papermill": {
     "duration": 0.023964,
     "end_time": "2022-08-14T15:25:15.544059",
     "exception": false,
     "start_time": "2022-08-14T15:25:15.520095",
     "status": "completed"
    },
    "tags": []
   },
   "outputs": [],
   "source": [
    "import torch\n",
    "\n",
    "\n",
    "def model_fn(batch, model, criterion, device):\n",
    "  \"\"\"Forward a batch through the model.\"\"\"\n",
    "\n",
    "  mels, labels = batch\n",
    "  mels = mels.to(device)\n",
    "  labels = labels.to(device)\n",
    "\n",
    "  outs = model(mels)\n",
    "\n",
    "  loss = criterion(outs, labels)\n",
    "\n",
    "  # Get the speaker id with highest probability.\n",
    "  preds = outs.argmax(1)\n",
    "  # Compute accuracy.\n",
    "  accuracy = torch.mean((preds == labels).float())\n",
    "\n",
    "  return loss, accuracy\n"
   ]
  },
  {
   "cell_type": "code",
   "execution_count": 7,
   "id": "casual-content",
   "metadata": {
    "execution": {
     "iopub.execute_input": "2022-08-14T15:25:15.576484Z",
     "iopub.status.busy": "2022-08-14T15:25:15.575453Z",
     "iopub.status.idle": "2022-08-14T15:25:15.578999Z",
     "shell.execute_reply": "2022-08-14T15:25:15.579565Z"
    },
    "papermill": {
     "duration": 0.024273,
     "end_time": "2022-08-14T15:25:15.579751",
     "exception": false,
     "start_time": "2022-08-14T15:25:15.555478",
     "status": "completed"
    },
    "tags": []
   },
   "outputs": [],
   "source": [
    "from tqdm import tqdm\n",
    "import torch\n",
    "\n",
    "\n",
    "def valid(dataloader, model, criterion, device): \n",
    "  \"\"\"Validate on validation set.\"\"\"\n",
    "\n",
    "  model.eval()\n",
    "  running_loss = 0.0\n",
    "  running_accuracy = 0.0\n",
    "  pbar = tqdm(total=len(dataloader.dataset), ncols=0, desc=\"Valid\", unit=\" uttr\")\n",
    "\n",
    "  for i, batch in enumerate(dataloader):\n",
    "    with torch.no_grad():\n",
    "      loss, accuracy = model_fn(batch, model, criterion, device)\n",
    "      running_loss += loss.item()\n",
    "      running_accuracy += accuracy.item()\n",
    "\n",
    "    pbar.update(dataloader.batch_size)\n",
    "    pbar.set_postfix(\n",
    "      loss=f\"{running_loss / (i+1):.2f}\",\n",
    "      accuracy=f\"{running_accuracy / (i+1):.2f}\",\n",
    "    )\n",
    "\n",
    "  pbar.close()\n",
    "  model.train()\n",
    "\n",
    "  return running_accuracy / len(dataloader)"
   ]
  },
  {
   "cell_type": "code",
   "execution_count": 8,
   "id": "offensive-tracy",
   "metadata": {
    "execution": {
     "iopub.execute_input": "2022-08-14T15:25:15.711994Z",
     "iopub.status.busy": "2022-08-14T15:25:15.711180Z",
     "iopub.status.idle": "2022-08-14T16:41:22.075506Z",
     "shell.execute_reply": "2022-08-14T16:41:22.076942Z"
    },
    "papermill": {
     "duration": 4566.485999,
     "end_time": "2022-08-14T16:41:22.077358",
     "exception": false,
     "start_time": "2022-08-14T15:25:15.591359",
     "status": "completed"
    },
    "tags": []
   },
   "outputs": [
    {
     "name": "stdout",
     "output_type": "stream",
     "text": [
      "[Info]: Use cuda now!\n",
      "[Info]: Finish loading data!\n",
      "[Info]: Finish creating model!\n"
     ]
    },
    {
     "name": "stderr",
     "output_type": "stream",
     "text": [
      "Train: 100% 2000/2000 [02:22<00:00, 14.04 step/s, accuracy=0.22, loss=3.50, step=2000]\n",
      "Valid: 100% 6944/6944 [00:11<00:00, 593.94 uttr/s, accuracy=0.32, loss=3.25] \n",
      "Train: 100% 2000/2000 [02:00<00:00, 16.54 step/s, accuracy=0.44, loss=2.47, step=4000]\n",
      "Valid: 100% 6944/6944 [00:07<00:00, 888.71 uttr/s, accuracy=0.46, loss=2.47] \n",
      "Train: 100% 2000/2000 [02:05<00:00, 15.92 step/s, accuracy=0.59, loss=1.43, step=6000]\n",
      "Valid: 100% 6944/6944 [00:07<00:00, 872.65 uttr/s, accuracy=0.57, loss=1.95] \n",
      "Train: 100% 2000/2000 [02:02<00:00, 16.27 step/s, accuracy=0.59, loss=1.50, step=8000]\n",
      "Valid: 100% 6944/6944 [00:08<00:00, 796.59 uttr/s, accuracy=0.62, loss=1.66] \n",
      "Train: 100% 2000/2000 [02:00<00:00, 16.62 step/s, accuracy=0.62, loss=1.18, step=1e+4]\n",
      "Valid: 100% 6944/6944 [00:09<00:00, 719.45 uttr/s, accuracy=0.67, loss=1.46]\n",
      "Train:   0% 2/2000 [00:00<11:22,  2.93 step/s, accuracy=0.75, loss=1.26, step=1e+4]"
     ]
    },
    {
     "name": "stdout",
     "output_type": "stream",
     "text": [
      "Step 10000, best model saved. (accuracy=0.6683)\n"
     ]
    },
    {
     "name": "stderr",
     "output_type": "stream",
     "text": [
      "Train: 100% 2000/2000 [02:04<00:00, 16.04 step/s, accuracy=0.78, loss=0.97, step=12000]\n",
      "Valid: 100% 6944/6944 [00:07<00:00, 914.16 uttr/s, accuracy=0.70, loss=1.32] \n",
      "Train: 100% 2000/2000 [02:01<00:00, 16.43 step/s, accuracy=0.66, loss=1.04, step=14000]\n",
      "Valid: 100% 6944/6944 [00:08<00:00, 796.90 uttr/s, accuracy=0.72, loss=1.22] \n",
      "Train: 100% 2000/2000 [02:02<00:00, 16.33 step/s, accuracy=0.94, loss=0.36, step=16000]\n",
      "Valid: 100% 6944/6944 [00:06<00:00, 1010.69 uttr/s, accuracy=0.73, loss=1.17]\n",
      "Train: 100% 2000/2000 [02:02<00:00, 16.27 step/s, accuracy=0.84, loss=0.63, step=18000]\n",
      "Valid: 100% 6944/6944 [00:07<00:00, 903.35 uttr/s, accuracy=0.75, loss=1.08] \n",
      "Train: 100% 2000/2000 [02:03<00:00, 16.20 step/s, accuracy=0.78, loss=0.83, step=2e+4]\n",
      "Valid: 100% 6944/6944 [00:06<00:00, 996.87 uttr/s, accuracy=0.77, loss=1.00] \n",
      "Train:   0% 1/2000 [00:00<13:19,  2.50 step/s, accuracy=0.91, loss=0.30, step=2e+4]"
     ]
    },
    {
     "name": "stdout",
     "output_type": "stream",
     "text": [
      "Step 20000, best model saved. (accuracy=0.7679)\n"
     ]
    },
    {
     "name": "stderr",
     "output_type": "stream",
     "text": [
      "Train: 100% 2000/2000 [02:06<00:00, 15.86 step/s, accuracy=0.81, loss=0.71, step=22000]\n",
      "Valid: 100% 6944/6944 [00:06<00:00, 1010.12 uttr/s, accuracy=0.77, loss=0.95]\n",
      "Train: 100% 2000/2000 [02:05<00:00, 15.94 step/s, accuracy=0.81, loss=0.57, step=24000]\n",
      "Valid: 100% 6944/6944 [00:07<00:00, 966.90 uttr/s, accuracy=0.79, loss=0.91] \n",
      "Train: 100% 2000/2000 [01:56<00:00, 17.15 step/s, accuracy=0.84, loss=0.69, step=26000]\n",
      "Valid: 100% 6944/6944 [00:07<00:00, 973.12 uttr/s, accuracy=0.79, loss=0.88] \n",
      "Train: 100% 2000/2000 [02:06<00:00, 15.81 step/s, accuracy=0.97, loss=0.14, step=28000]\n",
      "Valid: 100% 6944/6944 [00:08<00:00, 823.20 uttr/s, accuracy=0.81, loss=0.84] \n",
      "Train: 100% 2000/2000 [01:56<00:00, 17.21 step/s, accuracy=0.94, loss=0.37, step=3e+4]\n",
      "Valid: 100% 6944/6944 [00:07<00:00, 951.51 uttr/s, accuracy=0.81, loss=0.82] \n",
      "Train:   0% 3/2000 [00:00<04:02,  8.23 step/s, accuracy=0.91, loss=0.29, step=3e+4]"
     ]
    },
    {
     "name": "stdout",
     "output_type": "stream",
     "text": [
      "Step 30000, best model saved. (accuracy=0.8080)\n"
     ]
    },
    {
     "name": "stderr",
     "output_type": "stream",
     "text": [
      "Train: 100% 2000/2000 [02:03<00:00, 16.22 step/s, accuracy=0.97, loss=0.16, step=32000]\n",
      "Valid: 100% 6944/6944 [00:10<00:00, 689.69 uttr/s, accuracy=0.82, loss=0.74] \n",
      "Train: 100% 2000/2000 [02:01<00:00, 16.48 step/s, accuracy=0.94, loss=0.29, step=34000]\n",
      "Valid: 100% 6944/6944 [00:07<00:00, 956.10 uttr/s, accuracy=0.83, loss=0.72] \n",
      "Train: 100% 2000/2000 [01:56<00:00, 17.17 step/s, accuracy=0.81, loss=0.64, step=36000]\n",
      "Valid: 100% 6944/6944 [00:08<00:00, 864.95 uttr/s, accuracy=0.84, loss=0.66] \n",
      "Train: 100% 2000/2000 [02:09<00:00, 15.39 step/s, accuracy=0.88, loss=0.35, step=38000]\n",
      "Valid: 100% 6944/6944 [00:07<00:00, 959.15 uttr/s, accuracy=0.84, loss=0.66] \n",
      "Train: 100% 2000/2000 [01:58<00:00, 16.94 step/s, accuracy=1.00, loss=0.03, step=4e+4]\n",
      "Valid: 100% 6944/6944 [00:07<00:00, 948.85 uttr/s, accuracy=0.85, loss=0.63] \n",
      "Train:   0% 3/2000 [00:00<04:04,  8.15 step/s, accuracy=0.94, loss=0.36, step=4e+4]"
     ]
    },
    {
     "name": "stdout",
     "output_type": "stream",
     "text": [
      "Step 40000, best model saved. (accuracy=0.8494)\n"
     ]
    },
    {
     "name": "stderr",
     "output_type": "stream",
     "text": [
      "Train: 100% 2000/2000 [02:12<00:00, 15.06 step/s, accuracy=0.94, loss=0.23, step=42000]\n",
      "Valid: 100% 6944/6944 [00:07<00:00, 946.22 uttr/s, accuracy=0.85, loss=0.64] \n",
      "Train: 100% 2000/2000 [01:56<00:00, 17.18 step/s, accuracy=1.00, loss=0.06, step=44000]\n",
      "Valid: 100% 6944/6944 [00:07<00:00, 947.29 uttr/s, accuracy=0.86, loss=0.59] \n",
      "Train: 100% 2000/2000 [02:13<00:00, 15.03 step/s, accuracy=0.94, loss=0.15, step=46000]\n",
      "Valid: 100% 6944/6944 [00:07<00:00, 931.81 uttr/s, accuracy=0.87, loss=0.58] \n",
      "Train: 100% 2000/2000 [01:58<00:00, 16.92 step/s, accuracy=1.00, loss=0.03, step=48000]\n",
      "Valid: 100% 6944/6944 [00:06<00:00, 1016.06 uttr/s, accuracy=0.87, loss=0.56]\n",
      "Train: 100% 2000/2000 [02:09<00:00, 15.50 step/s, accuracy=0.94, loss=0.13, step=5e+4]\n",
      "Valid: 100% 6944/6944 [00:11<00:00, 615.36 uttr/s, accuracy=0.87, loss=0.55] \n",
      "Train:   0% 2/2000 [00:00<14:42,  2.26 step/s, accuracy=0.94, loss=0.21, step=5e+4]"
     ]
    },
    {
     "name": "stdout",
     "output_type": "stream",
     "text": [
      "Step 50000, best model saved. (accuracy=0.8743)\n"
     ]
    },
    {
     "name": "stderr",
     "output_type": "stream",
     "text": [
      "Train: 100% 2000/2000 [02:03<00:00, 16.16 step/s, accuracy=1.00, loss=0.02, step=52000]\n",
      "Valid: 100% 6944/6944 [00:07<00:00, 951.63 uttr/s, accuracy=0.88, loss=0.52] \n",
      "Train: 100% 2000/2000 [01:58<00:00, 16.91 step/s, accuracy=1.00, loss=0.05, step=54000]\n",
      "Valid: 100% 6944/6944 [00:06<00:00, 1017.70 uttr/s, accuracy=0.88, loss=0.54]\n",
      "Train: 100% 2000/2000 [01:54<00:00, 17.46 step/s, accuracy=1.00, loss=0.02, step=56000]\n",
      "Valid: 100% 6944/6944 [00:06<00:00, 1006.43 uttr/s, accuracy=0.89, loss=0.51]\n",
      "Train: 100% 2000/2000 [01:52<00:00, 17.80 step/s, accuracy=1.00, loss=0.03, step=58000]\n",
      "Valid: 100% 6944/6944 [00:07<00:00, 986.67 uttr/s, accuracy=0.89, loss=0.49] \n",
      "Train: 100% 2000/2000 [02:13<00:00, 14.96 step/s, accuracy=0.94, loss=0.08, step=6e+4]\n",
      "Valid: 100% 6944/6944 [00:07<00:00, 926.64 uttr/s, accuracy=0.89, loss=0.48] \n",
      "Train:   0% 3/2000 [00:00<04:36,  7.21 step/s, accuracy=0.97, loss=0.12, step=6e+4]"
     ]
    },
    {
     "name": "stdout",
     "output_type": "stream",
     "text": [
      "Step 60000, best model saved. (accuracy=0.8888)\n"
     ]
    },
    {
     "name": "stderr",
     "output_type": "stream",
     "text": [
      "Train: 100% 2000/2000 [01:51<00:00, 17.88 step/s, accuracy=1.00, loss=0.03, step=62000]\n",
      "Valid: 100% 6944/6944 [00:06<00:00, 1010.57 uttr/s, accuracy=0.89, loss=0.49]\n",
      "Train: 100% 2000/2000 [01:52<00:00, 17.81 step/s, accuracy=1.00, loss=0.02, step=64000]\n",
      "Valid: 100% 6944/6944 [00:06<00:00, 1004.82 uttr/s, accuracy=0.90, loss=0.46]\n",
      "Train: 100% 2000/2000 [01:51<00:00, 17.86 step/s, accuracy=0.94, loss=0.11, step=66000]\n",
      "Valid: 100% 6944/6944 [00:07<00:00, 973.72 uttr/s, accuracy=0.89, loss=0.45] \n",
      "Train: 100% 2000/2000 [02:13<00:00, 15.00 step/s, accuracy=1.00, loss=0.04, step=68000]\n",
      "Valid: 100% 6944/6944 [00:09<00:00, 730.79 uttr/s, accuracy=0.90, loss=0.47] \n",
      "Train: 100% 2000/2000 [01:54<00:00, 17.51 step/s, accuracy=1.00, loss=0.04, step=7e+4]\n",
      "Valid: 100% 6944/6944 [00:07<00:00, 961.94 uttr/s, accuracy=0.89, loss=0.47] \n",
      "Train:   0% 0/2000 [00:00<?, ? step/s]\n"
     ]
    },
    {
     "name": "stdout",
     "output_type": "stream",
     "text": [
      "Step 70000, best model saved. (accuracy=0.8970)\n"
     ]
    }
   ],
   "source": [
    "from tqdm import tqdm\n",
    "\n",
    "import torch\n",
    "import torch.nn as nn\n",
    "from torch.optim import AdamW\n",
    "from torch.utils.data import DataLoader, random_split\n",
    "\n",
    "record = {'train_loss':[], 'val_acc': []}\n",
    "\n",
    "\n",
    "def parse_args():\n",
    "  \"\"\"arguments\"\"\"\n",
    "  config = {\n",
    "    \"data_dir\": \"../input/ml2021springhw43/Dataset/\",\n",
    "    \"save_path\": \"model.ckpt\",\n",
    "    \"batch_size\": 32,\n",
    "    \"n_workers\": 8,\n",
    "    \"valid_steps\": 2000,\n",
    "    \"warmup_steps\": 1000,\n",
    "    \"save_steps\": 10000,\n",
    "    \"total_steps\": 70000,\n",
    "  }\n",
    "\n",
    "  return config\n",
    "\n",
    "\n",
    "def main(\n",
    "  data_dir,\n",
    "  save_path,\n",
    "  batch_size,\n",
    "  n_workers,\n",
    "  valid_steps,\n",
    "  warmup_steps,\n",
    "  total_steps,\n",
    "  save_steps,\n",
    "):\n",
    "  \"\"\"Main function.\"\"\"\n",
    "  device = torch.device(\"cuda\" if torch.cuda.is_available() else \"cpu\")\n",
    "  print(f\"[Info]: Use {device} now!\")\n",
    "\n",
    "  train_loader, valid_loader, speaker_num = get_dataloader(data_dir, batch_size, n_workers)\n",
    "  train_iterator = iter(train_loader)                               #这里没有懂为什么要用iter(), train_loader本身就是一个iterator吧\n",
    "  print(f\"[Info]: Finish loading data!\",flush = True)\n",
    "\n",
    "  model = Classifier(n_spks=speaker_num).to(device)\n",
    "  criterion = nn.CrossEntropyLoss()\n",
    "  optimizer = AdamW(model.parameters(), lr=1e-3)\n",
    "  scheduler = get_cosine_schedule_with_warmup(optimizer, warmup_steps, total_steps)\n",
    "  print(f\"[Info]: Finish creating model!\",flush = True)                     # flush = True是什么意思\n",
    "\n",
    "  best_accuracy = -1.0\n",
    "  best_state_dict = None\n",
    "\n",
    "  pbar = tqdm(total=valid_steps, ncols=0, desc=\"Train\", unit=\" step\")\n",
    "\n",
    "  for step in range(total_steps):\n",
    "    # Get data\n",
    "    try:\n",
    "      batch = next(train_iterator)\n",
    "    except StopIteration:\n",
    "      train_iterator = iter(train_loader)\n",
    "      batch = next(train_iterator)\n",
    "\n",
    "    loss, accuracy = model_fn(batch, model, criterion, device)\n",
    "    batch_loss = loss.item()\n",
    "    batch_accuracy = accuracy.item()\n",
    "    record['train_loss'].append(batch_loss)\n",
    "\n",
    "    # Updata model\n",
    "    loss.backward()\n",
    "    optimizer.step()\n",
    "    scheduler.step()\n",
    "    optimizer.zero_grad()\n",
    "    \n",
    "    # Log\n",
    "    pbar.update()\n",
    "    pbar.set_postfix(\n",
    "      loss=f\"{batch_loss:.2f}\",\n",
    "      accuracy=f\"{batch_accuracy:.2f}\",\n",
    "      step=step + 1,\n",
    "    )\n",
    "\n",
    "    # Do validation\n",
    "    if (step + 1) % valid_steps == 0:\n",
    "      pbar.close()\n",
    "\n",
    "      valid_accuracy = valid(valid_loader, model, criterion, device)\n",
    "      record['val_acc'].append(valid_accuracy)\n",
    "\n",
    "      # keep the best model\n",
    "      if valid_accuracy > best_accuracy:\n",
    "        best_accuracy = valid_accuracy\n",
    "        best_state_dict = model.state_dict()\n",
    "\n",
    "      pbar = tqdm(total=valid_steps, ncols=0, desc=\"Train\", unit=\" step\")\n",
    "\n",
    "    # Save the best model so far.\n",
    "    if (step + 1) % save_steps == 0 and best_state_dict is not None:\n",
    "      torch.save(best_state_dict, save_path)\n",
    "      pbar.write(f\"Step {step + 1}, best model saved. (accuracy={best_accuracy:.4f})\")\n",
    "\n",
    "  pbar.close()\n",
    "\n",
    "\n",
    "if __name__ == \"__main__\":\n",
    "  main(**parse_args())\n"
   ]
  },
  {
   "cell_type": "code",
   "execution_count": 9,
   "id": "identical-carnival",
   "metadata": {
    "execution": {
     "iopub.execute_input": "2022-08-14T16:42:36.482483Z",
     "iopub.status.busy": "2022-08-14T16:42:36.462260Z",
     "iopub.status.idle": "2022-08-14T16:42:36.871708Z",
     "shell.execute_reply": "2022-08-14T16:42:36.870705Z"
    },
    "papermill": {
     "duration": 38.418244,
     "end_time": "2022-08-14T16:42:36.871891",
     "exception": false,
     "start_time": "2022-08-14T16:41:58.453647",
     "status": "completed"
    },
    "tags": []
   },
   "outputs": [
    {
     "data": {
      "image/png": "[encoded data removed]",
      "text/plain": [
       "<Figure size 432x288 with 2 Axes>"
      ]
     },
     "metadata": {
      "needs_background": "light"
     },
     "output_type": "display_data"
    }
   ],
   "source": [
    "import matplotlib.pyplot as plt\n",
    "from matplotlib.pyplot import figure\n",
    "import numpy as np\n",
    "config = parse_args()\n",
    "x1 = np.arange(config['total_steps'])\n",
    "x2 = x1[::config['valid_steps']]\n",
    "y1 = record['train_loss']\n",
    "y2 = record['val_acc']\n",
    "fig = figure(figsize = (6,4))\n",
    "ax1 = fig.add_subplot(111)\n",
    "ax1.plot(x1,y1, c = 'tab:red', label = 'train_loss')\n",
    "ax2 = ax1.twinx()\n",
    "ax2.plot(x2,y2, c='tab:cyan', label='val_acc')\n",
    "ax1.set_xlabel('steps')\n",
    "ax1.set_ylabel('train_loss')\n",
    "ax2.set_ylabel('val_acc')\n",
    "plt.title('Learning curve of dnn model')\n",
    "ax1.legend()\n",
    "ax2.legend()\n",
    "plt.show()"
   ]
  },
  {
   "cell_type": "markdown",
   "id": "rough-bahamas",
   "metadata": {
    "papermill": {
     "duration": 37.22575,
     "end_time": "2022-08-14T16:43:51.502940",
     "exception": false,
     "start_time": "2022-08-14T16:43:14.277190",
     "status": "completed"
    },
    "tags": []
   },
   "source": [
    "## import json\n",
    "import csv\n",
    "from pathlib import Path\n",
    "from tqdm.notebook import tqdm\n",
    "\n",
    "import torch\n",
    "from torch.utils.data import DataLoader\n",
    "\n",
    "def parse_args():\n",
    "  \"\"\"arguments\"\"\"\n",
    "  config = {\n",
    "    \"data_dir\": \"../input/ml2021springhw43/Dataset/\",\n",
    "    \"model_path\": \"./model.ckpt\",\n",
    "    \"output_path\": \"./output.csv\",\n",
    "  }\n",
    "\n",
    "  return config\n",
    "\n",
    "\n",
    "def main(\n",
    "  data_dir,\n",
    "  model_path,\n",
    "  output_path,\n",
    "):\n",
    "  \"\"\"Main function.\"\"\"\n",
    "  device = torch.device(\"cuda\" if torch.cuda.is_available() else \"cpu\")\n",
    "  print(f\"[Info]: Use {device} now!\")\n",
    "\n",
    "  mapping_path = Path(\"../input/ml2021springhw43/Dataset/mapping.json\")\n",
    "  mapping = json.load(mapping_path.open())\n",
    "\n",
    "  dataset = InferenceDataset(data_dir)\n",
    "  dataloader = DataLoader(\n",
    "    dataset,\n",
    "    batch_size=1,\n",
    "    shuffle=False,\n",
    "    drop_last=False,\n",
    "    num_workers=8,\n",
    "    collate_fn=inference_collate_batch,\n",
    "  )\n",
    "  print(f\"[Info]: Finish loading data!\",flush = True)\n",
    "\n",
    "  speaker_num = len(mapping[\"id2speaker\"])\n",
    "  model = Classifier(n_spks=speaker_num).to(device)\n",
    "  model.load_state_dict(torch.load(model_path))\n",
    "  model.eval()\n",
    "  print(f\"[Info]: Finish creating model!\",flush = True)\n",
    "\n",
    "  results = [[\"Id\", \"Category\"]]\n",
    "  for feat_paths, mels in tqdm(dataloader):\n",
    "    with torch.no_grad():\n",
    "      mels = mels.to(device)\n",
    "      outs = model(mels)\n",
    "      preds = outs.argmax(1).cpu().numpy()\n",
    "      for feat_path, pred in zip(feat_paths, preds):\n",
    "        results.append([feat_path, mapping[\"id2speaker\"][str(pred)]])\n",
    "  \n",
    "  with open(output_path, 'w', newline='') as csvfile:\n",
    "    writer = csv.writer(csvfile)\n",
    "    writer.writerows(results)\n",
    "\n",
    "\n",
    "if __name__ == \"__main__\":\n",
    "  main(**parse_args())"
   ]
  }
 ],
 "metadata": {
  "kernelspec": {
   "display_name": "Python 3",
   "language": "python",
   "name": "python3"
  },
  "language_info": {
   "codemirror_mode": {
    "name": "ipython",
    "version": 3
   },
   "file_extension": ".py",
   "mimetype": "text/x-python",
   "name": "python",
   "nbconvert_exporter": "python",
   "pygments_lexer": "ipython3",
   "version": "3.7.9"
  },
  "papermill": {
   "default_parameters": {},
   "duration": 4775.638098,
   "end_time": "2022-08-14T16:44:31.154436",
   "environment_variables": {},
   "exception": null,
   "input_path": "__notebook__.ipynb",
   "output_path": "__notebook__.ipynb",
   "parameters": {},
   "start_time": "2022-08-14T15:24:55.516338",
   "version": "2.3.2"
  }
 },
 "nbformat": 4,
 "nbformat_minor": 5
}
